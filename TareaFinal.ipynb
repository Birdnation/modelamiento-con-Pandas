{
 "cells": [
  {
   "cell_type": "markdown",
   "metadata": {},
   "source": [
    "# Tarea pandas procesamiento analitico de datos.\n",
    "Alumno: Rodrigo Dominguez M. Rut: 17.392.282-5"
   ]
  },
  {
   "cell_type": "markdown",
   "metadata": {},
   "source": [
    "Se recibe un listado de alumnos en el archivo alumnos.xlsx, y se necesita obtener la siguiente\n",
    "información:\n",
    "\n",
    "*Cantidad de alumnos matriculados y no matriculados por carrera* &nbsp;&nbsp;&nbsp;&nbsp;<a href='#pregunta1'>ir a la linea de la solución</a>\n",
    "\n",
    "*Cantidad de alumnos con gratuidad por sexo* &nbsp;&nbsp;&nbsp;&nbsp;<a href='#pregunta2'>ir a la linea de la solución</a>\n",
    "\n",
    "*Cantidad de alumnos por tipo de ingreso en cada facultad* &nbsp;&nbsp;&nbsp;&nbsp;<a href='#pregunta3'>ir a la linea de la solución</a>\n",
    "\n",
    "*Cantidad de alumnos titulados según el año de ingreso para alumnos sin gratuidad.* &nbsp;&nbsp;&nbsp;&nbsp;<a href='#pregunta4'>ir a la linea de la solución</a>\n",
    "\n",
    "*Carrera que tiene más cantidad de mujeres para años de ingresos posteriores al 2010* &nbsp;&nbsp;&nbsp;&nbsp;<a href='#pregunta5'>ir a la linea de la solución</a>"
   ]
  },
  {
   "cell_type": "markdown",
   "metadata": {},
   "source": [
    "<h1>Configuracion y carga</h1>\n",
    "\n",
    "*importamos pandas*"
   ]
  },
  {
   "cell_type": "code",
   "execution_count": 1,
   "metadata": {},
   "outputs": [],
   "source": [
    "import pandas as pd\n",
    "import matplotlib.pyplot as plt\n",
    "import numpy as np"
   ]
  },
  {
   "cell_type": "markdown",
   "metadata": {},
   "source": [
    "*Cargamos los archivos*"
   ]
  },
  {
   "cell_type": "code",
   "execution_count": 2,
   "metadata": {},
   "outputs": [],
   "source": [
    "alumnos = pd.ExcelFile('alumnos.xlsx')\n",
    "facultadCarrera = pd.ExcelFile('facultades_y_carreras.xlsx')\n",
    "alumnosAntiguo = pd.ExcelFile('alumnos_base_antigua.xlsx')"
   ]
  },
  {
   "cell_type": "markdown",
   "metadata": {},
   "source": [
    "*creamos los dataframes*"
   ]
  },
  {
   "cell_type": "code",
   "execution_count": 3,
   "metadata": {},
   "outputs": [],
   "source": [
    "dfAlumnos = alumnos.parse('listado_alumnos')\n",
    "dfAlumnosAntiguos = alumnosAntiguo.parse('base')\n",
    "dfFacultades = facultadCarrera.parse('Facultades')\n",
    "dfCarreras = facultadCarrera.parse('Carreras')"
   ]
  },
  {
   "cell_type": "markdown",
   "metadata": {},
   "source": [
    "# Desarrollo 1"
   ]
  },
  {
   "cell_type": "markdown",
   "metadata": {},
   "source": [
    "*Verificamos alumnos sin rut:*"
   ]
  },
  {
   "cell_type": "code",
   "execution_count": 4,
   "metadata": {},
   "outputs": [
    {
     "data": {
      "text/plain": [
       "167"
      ]
     },
     "execution_count": 4,
     "metadata": {},
     "output_type": "execute_result"
    }
   ],
   "source": [
    "dfAlumnos['Rut'].isnull().sum()"
   ]
  },
  {
   "cell_type": "markdown",
   "metadata": {},
   "source": [
    "*Existen 167 alumnos sin rut, por ende necesitamos recuperar los rut de la base de datos antigua*\n",
    "\n",
    "*Creamos un nuevo df con el merge de los 2 dataframe de alumnos y alumnos base antigua.*"
   ]
  },
  {
   "cell_type": "code",
   "execution_count": 5,
   "metadata": {},
   "outputs": [],
   "source": [
    "dfAlumnosTotal = dfAlumnos.merge(dfAlumnosAntiguos,how='left')"
   ]
  },
  {
   "cell_type": "markdown",
   "metadata": {},
   "source": [
    "*Eliminamos duplicados:*"
   ]
  },
  {
   "cell_type": "code",
   "execution_count": 6,
   "metadata": {},
   "outputs": [],
   "source": [
    "dfAlumnosTotal.drop(dfAlumnosTotal[dfAlumnosTotal.Rut.duplicated()].index, inplace=True)"
   ]
  },
  {
   "cell_type": "markdown",
   "metadata": {},
   "source": [
    "*Verificamos alumnos sin rut desde el nuevo dataframe*"
   ]
  },
  {
   "cell_type": "code",
   "execution_count": 7,
   "metadata": {},
   "outputs": [
    {
     "data": {
      "text/plain": [
       "1"
      ]
     },
     "execution_count": 7,
     "metadata": {},
     "output_type": "execute_result"
    }
   ],
   "source": [
    "dfAlumnosTotal.Rut.isnull().sum()"
   ]
  },
  {
   "cell_type": "markdown",
   "metadata": {},
   "source": [
    "*Solo queda un alumno sin rut. Por ende ese alumno no tiene rut en ninguna de las 2 bases de datos.*\n",
    "\n",
    "*Realizamos un merge con las carreras para obtener el nombre de la carrera*"
   ]
  },
  {
   "cell_type": "code",
   "execution_count": 8,
   "metadata": {},
   "outputs": [],
   "source": [
    "dfAlumnosTotal = dfAlumnosTotal.merge(dfCarreras,how='left',left_on='Codigo carrera', right_on='ID carrera')"
   ]
  },
  {
   "cell_type": "markdown",
   "metadata": {},
   "source": [
    "*Luego, creamos un dataframe <b>cantidadMatric</b> donde almacenamos las columnas de los rut, el nombre de la carrera y la situación de su matricula.*"
   ]
  },
  {
   "cell_type": "code",
   "execution_count": 9,
   "metadata": {},
   "outputs": [],
   "source": [
    "cantidadMatric = dfAlumnosTotal.iloc[:,[1,16,11]]"
   ]
  },
  {
   "cell_type": "code",
   "execution_count": 10,
   "metadata": {},
   "outputs": [
    {
     "data": {
      "text/html": [
       "<div>\n",
       "<style scoped>\n",
       "    .dataframe tbody tr th:only-of-type {\n",
       "        vertical-align: middle;\n",
       "    }\n",
       "\n",
       "    .dataframe tbody tr th {\n",
       "        vertical-align: top;\n",
       "    }\n",
       "\n",
       "    .dataframe thead th {\n",
       "        text-align: right;\n",
       "    }\n",
       "</style>\n",
       "<table border=\"1\" class=\"dataframe\">\n",
       "  <thead>\n",
       "    <tr style=\"text-align: right;\">\n",
       "      <th></th>\n",
       "      <th>Rut</th>\n",
       "      <th>nombre carrera</th>\n",
       "      <th>Situac. Matrícula</th>\n",
       "    </tr>\n",
       "  </thead>\n",
       "  <tbody>\n",
       "    <tr>\n",
       "      <th>0</th>\n",
       "      <td>11389462.0</td>\n",
       "      <td>INGENIERIA CIVIL MECANICA</td>\n",
       "      <td>NO MATRICULADO</td>\n",
       "    </tr>\n",
       "    <tr>\n",
       "      <th>1</th>\n",
       "      <td>14355603.0</td>\n",
       "      <td>TRABAJO  SOCIAL</td>\n",
       "      <td>NO MATRICULADO</td>\n",
       "    </tr>\n",
       "    <tr>\n",
       "      <th>2</th>\n",
       "      <td>21444463.0</td>\n",
       "      <td>QUIMICA</td>\n",
       "      <td>NO MATRICULADO</td>\n",
       "    </tr>\n",
       "    <tr>\n",
       "      <th>3</th>\n",
       "      <td>15078886.0</td>\n",
       "      <td>ARQUITECTURA</td>\n",
       "      <td>NO MATRICULADO</td>\n",
       "    </tr>\n",
       "    <tr>\n",
       "      <th>4</th>\n",
       "      <td>15426303.0</td>\n",
       "      <td>KINESIOLOGIA</td>\n",
       "      <td>NO MATRICULADO</td>\n",
       "    </tr>\n",
       "    <tr>\n",
       "      <th>...</th>\n",
       "      <td>...</td>\n",
       "      <td>...</td>\n",
       "      <td>...</td>\n",
       "    </tr>\n",
       "    <tr>\n",
       "      <th>21861</th>\n",
       "      <td>15485097.0</td>\n",
       "      <td>INGENIERIA CIVIL MECANICA</td>\n",
       "      <td>NO MATRICULADO</td>\n",
       "    </tr>\n",
       "    <tr>\n",
       "      <th>21862</th>\n",
       "      <td>15154615.0</td>\n",
       "      <td>PSICOPEDAGOGIA</td>\n",
       "      <td>NO MATRICULADO</td>\n",
       "    </tr>\n",
       "    <tr>\n",
       "      <th>21863</th>\n",
       "      <td>17392675.0</td>\n",
       "      <td>DERECHO</td>\n",
       "      <td>NO MATRICULADO</td>\n",
       "    </tr>\n",
       "    <tr>\n",
       "      <th>21864</th>\n",
       "      <td>21624175.0</td>\n",
       "      <td>INGENIERIA CIVIL EN MINAS</td>\n",
       "      <td>NO MATRICULADO</td>\n",
       "    </tr>\n",
       "    <tr>\n",
       "      <th>21865</th>\n",
       "      <td>15734499.0</td>\n",
       "      <td>FONOAUDIOLOGIA</td>\n",
       "      <td>NO MATRICULADO</td>\n",
       "    </tr>\n",
       "  </tbody>\n",
       "</table>\n",
       "<p>21866 rows × 3 columns</p>\n",
       "</div>"
      ],
      "text/plain": [
       "              Rut             nombre carrera Situac. Matrícula\n",
       "0      11389462.0  INGENIERIA CIVIL MECANICA    NO MATRICULADO\n",
       "1      14355603.0            TRABAJO  SOCIAL    NO MATRICULADO\n",
       "2      21444463.0                    QUIMICA    NO MATRICULADO\n",
       "3      15078886.0               ARQUITECTURA    NO MATRICULADO\n",
       "4      15426303.0               KINESIOLOGIA    NO MATRICULADO\n",
       "...           ...                        ...               ...\n",
       "21861  15485097.0  INGENIERIA CIVIL MECANICA    NO MATRICULADO\n",
       "21862  15154615.0             PSICOPEDAGOGIA    NO MATRICULADO\n",
       "21863  17392675.0                    DERECHO    NO MATRICULADO\n",
       "21864  21624175.0  INGENIERIA CIVIL EN MINAS    NO MATRICULADO\n",
       "21865  15734499.0             FONOAUDIOLOGIA    NO MATRICULADO\n",
       "\n",
       "[21866 rows x 3 columns]"
      ]
     },
     "execution_count": 10,
     "metadata": {},
     "output_type": "execute_result"
    }
   ],
   "source": [
    "cantidadMatric"
   ]
  },
  {
   "cell_type": "markdown",
   "metadata": {},
   "source": [
    "*Eliminamos de el nuevo df las filas con situacion de maticula = 'PROCESO MATRICULA'*"
   ]
  },
  {
   "cell_type": "code",
   "execution_count": 11,
   "metadata": {},
   "outputs": [],
   "source": [
    "cantidadMatric = cantidadMatric.drop(cantidadMatric[cantidadMatric['Situac. Matrícula'] == 'PROCESO MATRICULA'].index)"
   ]
  },
  {
   "cell_type": "markdown",
   "metadata": {},
   "source": [
    "*Verificamos que no queden filas con el dato de 'PROCESO MATRICULA'*"
   ]
  },
  {
   "cell_type": "code",
   "execution_count": 12,
   "metadata": {
    "scrolled": false
   },
   "outputs": [
    {
     "data": {
      "text/plain": [
       "0"
      ]
     },
     "execution_count": 12,
     "metadata": {},
     "output_type": "execute_result"
    }
   ],
   "source": [
    "(cantidadMatric['Situac. Matrícula'] == 'PROCESO MATRICULA').sum()"
   ]
  },
  {
   "cell_type": "markdown",
   "metadata": {},
   "source": [
    "<a name='pregunta1'> P1 </a>\n",
    "\n",
    "*Realizamos un grafico de barras horizontales acumulado, donde se presentan las carreras en el eje Y, la cantidad de alumnos matriculados en el eje X separados por las categorias de 'MATRICULADO' y 'NO MATRICULADO'*\n",
    "\n"
   ]
  },
  {
   "cell_type": "code",
   "execution_count": 57,
   "metadata": {},
   "outputs": [
    {
     "data": {
      "image/png": "[encoded data removed]",
      "text/plain": [
       "<Figure size 432x288 with 1 Axes>"
      ]
     },
     "metadata": {
      "needs_background": "light"
     },
     "output_type": "display_data"
    }
   ],
   "source": [
    "cantidadMatric.groupby(['nombre carrera', 'Situac. Matrícula']).count().Rut.unstack().sort_values('MATRICULADO').plot(kind='barh',stacked=True, legend=False)\n",
    "plt.xlabel('Carreras')\n",
    "plt.ylabel('Numero de matriculas')\n",
    "plt.legend(loc='upper center', ncol=3, bbox_to_anchor=(0.5, 1.08),fontsize='small', frameon=False)\n",
    "plt.show()"
   ]
  },
  {
   "cell_type": "markdown",
   "metadata": {},
   "source": [
    "# Desarrollo 2"
   ]
  },
  {
   "cell_type": "markdown",
   "metadata": {},
   "source": [
    "*Verificamos los alumnos que no tienen sexo:*"
   ]
  },
  {
   "cell_type": "code",
   "execution_count": 54,
   "metadata": {},
   "outputs": [
    {
     "data": {
      "text/plain": [
       "1163"
      ]
     },
     "execution_count": 54,
     "metadata": {},
     "output_type": "execute_result"
    }
   ],
   "source": [
    "dfAlumnosTotal.Sexo.isin([' ']).sum()"
   ]
  },
  {
   "cell_type": "markdown",
   "metadata": {},
   "source": [
    "*Existen 1163 Alumnos sin un sexo definido, por ende procedemos a cambiar el dato por no definido:*"
   ]
  },
  {
   "cell_type": "code",
   "execution_count": 55,
   "metadata": {},
   "outputs": [],
   "source": [
    "dfAlumnosTotal.Sexo.replace({' ':'No definido'},inplace=True)"
   ]
  },
  {
   "cell_type": "markdown",
   "metadata": {},
   "source": [
    " <a name='pregunta2'>P2</a>\n",
    "\n",
    "*Realizamos un grafico de tipo torta con la cantidad de alumnos por beneficio y sexo, luego filtramos solo quienes tienen gratuidad y los mostramos en %*"
   ]
  },
  {
   "cell_type": "code",
   "execution_count": 58,
   "metadata": {},
   "outputs": [
    {
     "data": {
      "image/png": "[encoded data removed]",
      "text/plain": [
       "<Figure size 432x288 with 1 Axes>"
      ]
     },
     "metadata": {},
     "output_type": "display_data"
    }
   ],
   "source": [
    "explode = [0.05,0.05,0]\n",
    "plt.pie(dfAlumnosTotal.groupby(['Beneficio', 'Sexo']).count().Rut.get('Gratuidad').values, labels=dfAlumnosTotal.groupby(['Beneficio', 'Sexo']).count().Rut.get('Gratuidad').index,explode=explode, autopct='%1.1f%%', shadow=True, startangle=90)\n",
    "plt.title('Cantidad de alumnos con gratuidad por sexo')\n",
    "plt.show()"
   ]
  },
  {
   "cell_type": "markdown",
   "metadata": {},
   "source": [
    "# Desarrollo 3"
   ]
  },
  {
   "cell_type": "markdown",
   "metadata": {},
   "source": [
    "*Realizamos un merge con las facultades para obtener el nombre de las facultades*"
   ]
  },
  {
   "cell_type": "code",
   "execution_count": 59,
   "metadata": {},
   "outputs": [],
   "source": [
    "dfAlumnosTotal = dfAlumnosTotal.merge(dfFacultades,how='left',left_on='id facultad', right_on='id')"
   ]
  },
  {
   "cell_type": "markdown",
   "metadata": {},
   "source": [
    "<a name='pregunta3'>P3</a>\n",
    "\n",
    "*Realizamos un grafico de tipo barras verticales con las facultades en el eje X, y la cantidad de alumnos en el eje Y, luego segmentamos los datos segun tipo de ingreso.*"
   ]
  },
  {
   "cell_type": "code",
   "execution_count": 70,
   "metadata": {},
   "outputs": [
    {
     "data": {
      "image/png": "[encoded data removed]",
      "text/plain": [
       "<Figure size 432x288 with 1 Axes>"
      ]
     },
     "metadata": {
      "needs_background": "light"
     },
     "output_type": "display_data"
    }
   ],
   "source": [
    "dfAlumnosTotal.groupby(['Facultad', 'Tipo ingreso']).count().Rut.unstack().sort_values('Especial').plot(kind='bar')\n",
    "plt.show()"
   ]
  },
  {
   "cell_type": "markdown",
   "metadata": {},
   "source": [
    "# Desarrollo 4"
   ]
  },
  {
   "cell_type": "markdown",
   "metadata": {},
   "source": [
    "*Reemplazamos los valores NA y espacio por el texto sin gratuidad.*"
   ]
  },
  {
   "cell_type": "code",
   "execution_count": 63,
   "metadata": {},
   "outputs": [],
   "source": [
    "dfAlumnosTotal.Beneficio.fillna('Sin gratuidad',inplace=True)\n",
    "dfAlumnosTotal.Beneficio.replace({' ':'Sin gratuidad'},inplace=True)"
   ]
  },
  {
   "cell_type": "markdown",
   "metadata": {},
   "source": [
    " <a name='pregunta4'>P4</a>\n",
    "\n",
    "*Realizamos un grafico de barras con los años ordenados en el eje X y cantidad de alumnos en el eje Y, luego filtramos los alumnos Titulados y sin gratuidad*"
   ]
  },
  {
   "cell_type": "code",
   "execution_count": 73,
   "metadata": {},
   "outputs": [
    {
     "data": {
      "image/png": "[encoded data removed]",
      "text/plain": [
       "<Figure size 432x288 with 1 Axes>"
      ]
     },
     "metadata": {
      "needs_background": "light"
     },
     "output_type": "display_data"
    }
   ],
   "source": [
    "dfAlumnosTotal.groupby(['Alumnos', 'Beneficio','Año ingreso']).count().Rut.get('TITULADO').get('Sin gratuidad').plot(kind='bar')\n",
    "plt.show()"
   ]
  },
  {
   "cell_type": "markdown",
   "metadata": {},
   "source": [
    "# Desarrollo 5"
   ]
  },
  {
   "cell_type": "markdown",
   "metadata": {},
   "source": [
    "*Creamos una variable llamada <b> alumnoIngresoMayor2010 </b> donde se almacena un df con los datos desde 2010 en adelante*"
   ]
  },
  {
   "cell_type": "code",
   "execution_count": 74,
   "metadata": {},
   "outputs": [],
   "source": [
    "alumnoIngresoMayor2010 = dfAlumnosTotal[dfAlumnosTotal[('Año ingreso')] >2010]"
   ]
  },
  {
   "cell_type": "markdown",
   "metadata": {},
   "source": [
    "*extraemos del df creado la columna nombre carrera y filtramos por sexo = F*"
   ]
  },
  {
   "cell_type": "code",
   "execution_count": 79,
   "metadata": {},
   "outputs": [],
   "source": [
    "carrerasMayorIngreso2010 = pd.DataFrame(sorted(alumnoIngresoMayor2010.groupby(['Sexo','nombre carrera']).count().Rut.get('F').items(), key=lambda x: x[1]))"
   ]
  },
  {
   "cell_type": "markdown",
   "metadata": {},
   "source": [
    "*Renombramos las nuevas columnas para un mejor entendimiento*"
   ]
  },
  {
   "cell_type": "code",
   "execution_count": 80,
   "metadata": {},
   "outputs": [],
   "source": [
    "carrerasMayorIngreso2010.columns = ['Carrera', 'Cantidad de mujeres']"
   ]
  },
  {
   "cell_type": "markdown",
   "metadata": {},
   "source": [
    "*Visualizamos el nuevo df*"
   ]
  },
  {
   "cell_type": "code",
   "execution_count": 81,
   "metadata": {},
   "outputs": [
    {
     "data": {
      "text/html": [
       "<div>\n",
       "<style scoped>\n",
       "    .dataframe tbody tr th:only-of-type {\n",
       "        vertical-align: middle;\n",
       "    }\n",
       "\n",
       "    .dataframe tbody tr th {\n",
       "        vertical-align: top;\n",
       "    }\n",
       "\n",
       "    .dataframe thead th {\n",
       "        text-align: right;\n",
       "    }\n",
       "</style>\n",
       "<table border=\"1\" class=\"dataframe\">\n",
       "  <thead>\n",
       "    <tr style=\"text-align: right;\">\n",
       "      <th></th>\n",
       "      <th>Carrera</th>\n",
       "      <th>Cantidad de mujeres</th>\n",
       "    </tr>\n",
       "  </thead>\n",
       "  <tbody>\n",
       "    <tr>\n",
       "      <th>0</th>\n",
       "      <td>PSICOLOGIA</td>\n",
       "      <td>186</td>\n",
       "    </tr>\n",
       "    <tr>\n",
       "      <th>1</th>\n",
       "      <td>INGENIERIA DE EJECUCION ELECTRICIDAD</td>\n",
       "      <td>204</td>\n",
       "    </tr>\n",
       "    <tr>\n",
       "      <th>2</th>\n",
       "      <td>QUIMICA</td>\n",
       "      <td>204</td>\n",
       "    </tr>\n",
       "    <tr>\n",
       "      <th>3</th>\n",
       "      <td>INGENIERIA CIVIL ELECTRICA</td>\n",
       "      <td>205</td>\n",
       "    </tr>\n",
       "    <tr>\n",
       "      <th>4</th>\n",
       "      <td>PSICOPEDAGOGIA</td>\n",
       "      <td>207</td>\n",
       "    </tr>\n",
       "    <tr>\n",
       "      <th>5</th>\n",
       "      <td>INGENIERIA CIVIL MECANICA</td>\n",
       "      <td>210</td>\n",
       "    </tr>\n",
       "    <tr>\n",
       "      <th>6</th>\n",
       "      <td>ADMINISTRACION PUBLICA</td>\n",
       "      <td>211</td>\n",
       "    </tr>\n",
       "    <tr>\n",
       "      <th>7</th>\n",
       "      <td>FONOAUDIOLOGIA</td>\n",
       "      <td>211</td>\n",
       "    </tr>\n",
       "    <tr>\n",
       "      <th>8</th>\n",
       "      <td>ENFERMERIA</td>\n",
       "      <td>212</td>\n",
       "    </tr>\n",
       "    <tr>\n",
       "      <th>9</th>\n",
       "      <td>ODONTOLOGIA</td>\n",
       "      <td>216</td>\n",
       "    </tr>\n",
       "    <tr>\n",
       "      <th>10</th>\n",
       "      <td>ARQUITECTURA</td>\n",
       "      <td>217</td>\n",
       "    </tr>\n",
       "    <tr>\n",
       "      <th>11</th>\n",
       "      <td>TRABAJO  SOCIAL</td>\n",
       "      <td>222</td>\n",
       "    </tr>\n",
       "    <tr>\n",
       "      <th>12</th>\n",
       "      <td>DERECHO</td>\n",
       "      <td>223</td>\n",
       "    </tr>\n",
       "    <tr>\n",
       "      <th>13</th>\n",
       "      <td>BIOLOGIA MARINA</td>\n",
       "      <td>224</td>\n",
       "    </tr>\n",
       "    <tr>\n",
       "      <th>14</th>\n",
       "      <td>EDUCACION PARVULARIA</td>\n",
       "      <td>225</td>\n",
       "    </tr>\n",
       "    <tr>\n",
       "      <th>15</th>\n",
       "      <td>KINESIOLOGIA</td>\n",
       "      <td>226</td>\n",
       "    </tr>\n",
       "    <tr>\n",
       "      <th>16</th>\n",
       "      <td>ANALISIS QUIMICO</td>\n",
       "      <td>228</td>\n",
       "    </tr>\n",
       "    <tr>\n",
       "      <th>17</th>\n",
       "      <td>BIOTECNOLOGIA</td>\n",
       "      <td>229</td>\n",
       "    </tr>\n",
       "    <tr>\n",
       "      <th>18</th>\n",
       "      <td>INGENIERIA EN ACUICULTURA</td>\n",
       "      <td>229</td>\n",
       "    </tr>\n",
       "    <tr>\n",
       "      <th>19</th>\n",
       "      <td>INGENIERIA CIVIL EN MINAS</td>\n",
       "      <td>230</td>\n",
       "    </tr>\n",
       "    <tr>\n",
       "      <th>20</th>\n",
       "      <td>INGENIERIA CIVIL INDUSTRIAL</td>\n",
       "      <td>232</td>\n",
       "    </tr>\n",
       "    <tr>\n",
       "      <th>21</th>\n",
       "      <td>INGENIERIA EN ALIMENTOS</td>\n",
       "      <td>250</td>\n",
       "    </tr>\n",
       "  </tbody>\n",
       "</table>\n",
       "</div>"
      ],
      "text/plain": [
       "                                 Carrera  Cantidad de mujeres\n",
       "0                             PSICOLOGIA                  186\n",
       "1   INGENIERIA DE EJECUCION ELECTRICIDAD                  204\n",
       "2                                QUIMICA                  204\n",
       "3             INGENIERIA CIVIL ELECTRICA                  205\n",
       "4                         PSICOPEDAGOGIA                  207\n",
       "5              INGENIERIA CIVIL MECANICA                  210\n",
       "6                 ADMINISTRACION PUBLICA                  211\n",
       "7                         FONOAUDIOLOGIA                  211\n",
       "8                             ENFERMERIA                  212\n",
       "9                            ODONTOLOGIA                  216\n",
       "10                          ARQUITECTURA                  217\n",
       "11                       TRABAJO  SOCIAL                  222\n",
       "12                               DERECHO                  223\n",
       "13                       BIOLOGIA MARINA                  224\n",
       "14                  EDUCACION PARVULARIA                  225\n",
       "15                          KINESIOLOGIA                  226\n",
       "16                      ANALISIS QUIMICO                  228\n",
       "17                         BIOTECNOLOGIA                  229\n",
       "18             INGENIERIA EN ACUICULTURA                  229\n",
       "19             INGENIERIA CIVIL EN MINAS                  230\n",
       "20           INGENIERIA CIVIL INDUSTRIAL                  232\n",
       "21               INGENIERIA EN ALIMENTOS                  250"
      ]
     },
     "execution_count": 81,
     "metadata": {},
     "output_type": "execute_result"
    }
   ],
   "source": [
    "carrerasMayorIngreso2010"
   ]
  },
  {
   "cell_type": "markdown",
   "metadata": {},
   "source": [
    "<a name='pregunta5'>P5</a>\n",
    "\n",
    "*Realizamos un grafico con el df creado* "
   ]
  },
  {
   "cell_type": "code",
   "execution_count": 83,
   "metadata": {},
   "outputs": [
    {
     "data": {
      "image/png": "[encoded data removed]",
      "text/plain": [
       "<Figure size 432x288 with 1 Axes>"
      ]
     },
     "metadata": {
      "needs_background": "light"
     },
     "output_type": "display_data"
    }
   ],
   "source": [
    "carrerasMayorIngreso2010.groupby('Carrera').mean().sort_values('Cantidad de mujeres').plot(kind='bar')\n",
    "plt.show()"
   ]
  }
 ],
 "metadata": {
  "kernelspec": {
   "display_name": "Python 3",
   "language": "python",
   "name": "python3"
  },
  "language_info": {
   "codemirror_mode": {
    "name": "ipython",
    "version": 3
   },
   "file_extension": ".py",
   "mimetype": "text/x-python",
   "name": "python",
   "nbconvert_exporter": "python",
   "pygments_lexer": "ipython3",
   "version": "3.8.5"
  }
 },
 "nbformat": 4,
 "nbformat_minor": 4
}
